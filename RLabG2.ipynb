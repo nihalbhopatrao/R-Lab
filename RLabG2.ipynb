{
  "nbformat": 4,
  "nbformat_minor": 0,
  "metadata": {
    "colab": {
      "name": "RLabG2.ipynb",
      "provenance": [],
      "collapsed_sections": [],
      "include_colab_link": true
    },
    "kernelspec": {
      "name": "ir",
      "display_name": "R"
    },
    "language_info": {
      "name": "R"
    }
  },
  "cells": [
    {
      "cell_type": "markdown",
      "metadata": {
        "id": "view-in-github",
        "colab_type": "text"
      },
      "source": [
        "<a href=\"https://colab.research.google.com/github/CoderPrathamesh21/R_LAB/blob/main/RLabG2.ipynb\" target=\"_parent\"><img src=\"https://colab.research.google.com/assets/colab-badge.svg\" alt=\"Open In Colab\"/></a>"
      ]
    },
    {
      "cell_type": "code",
      "metadata": {
        "colab": {
          "base_uri": "https://localhost:8080/",
          "height": 34
        },
        "id": "uM2g-BYnuhsG",
        "outputId": "67cd2dad-090a-4ca7-b55d-c5033dc8e400"
      },
      "source": [
        "system(\"ls\", TRUE)\n",
        "#https://drive.google.com/file/d/1RAGJGOUZ_U97eIi6qvvrOka3VtLOAoN3/view?usp=sharing\n",
        "\n",
        "#https://drive.google.com/file/d/1lYw3zn35TghHbsgiIGg2lUjnm7BHWy3_/view?usp=sharing"
      ],
      "execution_count": null,
      "outputs": [
        {
          "output_type": "display_data",
          "data": {
            "text/plain": [
              "[1] \"sample_data\""
            ],
            "text/latex": "'sample\\_data'",
            "text/markdown": "'sample_data'",
            "text/html": [
              "'sample_data'"
            ]
          },
          "metadata": {
            "tags": []
          }
        }
      ]
    },
    {
      "cell_type": "code",
      "metadata": {
        "id": "4PIwdVnUaFC2"
      },
      "source": [
        "library(dplyr)"
      ],
      "execution_count": null,
      "outputs": []
    },
    {
      "cell_type": "code",
      "metadata": {
        "id": "8S9ahaVqzHVi"
      },
      "source": [
        "system(\"gdown --id 1lYw3zn35TghHbsgiIGg2lUjnm7BHWy3_\")\n",
        " \n",
        "data=read.csv(\"Social_Network_Ads.csv\")"
      ],
      "execution_count": null,
      "outputs": []
    },
    {
      "cell_type": "code",
      "metadata": {
        "colab": {
          "base_uri": "https://localhost:8080/",
          "height": 1000
        },
        "id": "yuJxwT-zzZjg",
        "outputId": "74828448-d3c6-4174-d8e4-8117b6e30231"
      },
      "source": [
        "data\n"
      ],
      "execution_count": null,
      "outputs": [
        {
          "output_type": "display_data",
          "data": {
            "text/plain": [
              "    User.ID  Gender Age EstimatedSalary Purchased\n",
              "1   15624510 Male   19   19000          0        \n",
              "2   15810944 Male   35   20000          0        \n",
              "3   15668575 Female 26   43000          0        \n",
              "4   15603246 Female 27   57000          0        \n",
              "5   15804002 Male   19   76000          0        \n",
              "6   15728773 Male   27   58000          0        \n",
              "7   15598044 Female 27   84000          0        \n",
              "8   15694829 Female 32  150000          1        \n",
              "9   15600575 Male   25   33000          0        \n",
              "10  15727311 Female 35   65000          0        \n",
              "11  15570769 Female 26   80000          0        \n",
              "12  15606274 Female 26   52000          0        \n",
              "13  15746139 Male   20   86000          0        \n",
              "14  15704987 Male   32   18000          0        \n",
              "15  15628972 Male   18   82000          0        \n",
              "16  15697686 Male   29   80000          0        \n",
              "17  15733883 Male   47   25000          1        \n",
              "18  15617482 Male   45   26000          1        \n",
              "19  15704583 Male   46   28000          1        \n",
              "20  15621083 Female 48   29000          1        \n",
              "21  15649487 Male   45   22000          1        \n",
              "22  15736760 Female 47   49000          1        \n",
              "23  15714658 Male   48   41000          1        \n",
              "24  15599081 Female 45   22000          1        \n",
              "25  15705113 Male   46   23000          1        \n",
              "26  15631159 Male   47   20000          1        \n",
              "27  15792818 Male   49   28000          1        \n",
              "28  15633531 Female 47   30000          1        \n",
              "29  15744529 Male   29   43000          0        \n",
              "30  15669656 Male   31   18000          0        \n",
              "⋮   ⋮        ⋮      ⋮   ⋮               ⋮        \n",
              "371 15611430 Female 60   46000          1        \n",
              "372 15774744 Male   60   83000          1        \n",
              "373 15629885 Female 39   73000          0        \n",
              "374 15708791 Male   59  130000          1        \n",
              "375 15793890 Female 37   80000          0        \n",
              "376 15646091 Female 46   32000          1        \n",
              "377 15596984 Female 46   74000          0        \n",
              "378 15800215 Female 42   53000          0        \n",
              "379 15577806 Male   41   87000          1        \n",
              "380 15749381 Female 58   23000          1        \n",
              "381 15683758 Male   42   64000          0        \n",
              "382 15670615 Male   48   33000          1        \n",
              "383 15715622 Female 44  139000          1        \n",
              "384 15707634 Male   49   28000          1        \n",
              "385 15806901 Female 57   33000          1        \n",
              "386 15775335 Male   56   60000          1        \n",
              "387 15724150 Female 49   39000          1        \n",
              "388 15627220 Male   39   71000          0        \n",
              "389 15672330 Male   47   34000          1        \n",
              "390 15668521 Female 48   35000          1        \n",
              "391 15807837 Male   48   33000          1        \n",
              "392 15592570 Male   47   23000          1        \n",
              "393 15748589 Female 45   45000          1        \n",
              "394 15635893 Male   60   42000          1        \n",
              "395 15757632 Female 39   59000          0        \n",
              "396 15691863 Female 46   41000          1        \n",
              "397 15706071 Male   51   23000          1        \n",
              "398 15654296 Female 50   20000          1        \n",
              "399 15755018 Male   36   33000          0        \n",
              "400 15594041 Female 49   36000          1        "
            ],
            "text/latex": "A data.frame: 400 × 5\n\\begin{tabular}{lllll}\n User.ID & Gender & Age & EstimatedSalary & Purchased\\\\\n <int> & <chr> & <int> & <int> & <int>\\\\\n\\hline\n\t 15624510 & Male   & 19 &  19000 & 0\\\\\n\t 15810944 & Male   & 35 &  20000 & 0\\\\\n\t 15668575 & Female & 26 &  43000 & 0\\\\\n\t 15603246 & Female & 27 &  57000 & 0\\\\\n\t 15804002 & Male   & 19 &  76000 & 0\\\\\n\t 15728773 & Male   & 27 &  58000 & 0\\\\\n\t 15598044 & Female & 27 &  84000 & 0\\\\\n\t 15694829 & Female & 32 & 150000 & 1\\\\\n\t 15600575 & Male   & 25 &  33000 & 0\\\\\n\t 15727311 & Female & 35 &  65000 & 0\\\\\n\t 15570769 & Female & 26 &  80000 & 0\\\\\n\t 15606274 & Female & 26 &  52000 & 0\\\\\n\t 15746139 & Male   & 20 &  86000 & 0\\\\\n\t 15704987 & Male   & 32 &  18000 & 0\\\\\n\t 15628972 & Male   & 18 &  82000 & 0\\\\\n\t 15697686 & Male   & 29 &  80000 & 0\\\\\n\t 15733883 & Male   & 47 &  25000 & 1\\\\\n\t 15617482 & Male   & 45 &  26000 & 1\\\\\n\t 15704583 & Male   & 46 &  28000 & 1\\\\\n\t 15621083 & Female & 48 &  29000 & 1\\\\\n\t 15649487 & Male   & 45 &  22000 & 1\\\\\n\t 15736760 & Female & 47 &  49000 & 1\\\\\n\t 15714658 & Male   & 48 &  41000 & 1\\\\\n\t 15599081 & Female & 45 &  22000 & 1\\\\\n\t 15705113 & Male   & 46 &  23000 & 1\\\\\n\t 15631159 & Male   & 47 &  20000 & 1\\\\\n\t 15792818 & Male   & 49 &  28000 & 1\\\\\n\t 15633531 & Female & 47 &  30000 & 1\\\\\n\t 15744529 & Male   & 29 &  43000 & 0\\\\\n\t 15669656 & Male   & 31 &  18000 & 0\\\\\n\t ⋮ & ⋮ & ⋮ & ⋮ & ⋮\\\\\n\t 15611430 & Female & 60 &  46000 & 1\\\\\n\t 15774744 & Male   & 60 &  83000 & 1\\\\\n\t 15629885 & Female & 39 &  73000 & 0\\\\\n\t 15708791 & Male   & 59 & 130000 & 1\\\\\n\t 15793890 & Female & 37 &  80000 & 0\\\\\n\t 15646091 & Female & 46 &  32000 & 1\\\\\n\t 15596984 & Female & 46 &  74000 & 0\\\\\n\t 15800215 & Female & 42 &  53000 & 0\\\\\n\t 15577806 & Male   & 41 &  87000 & 1\\\\\n\t 15749381 & Female & 58 &  23000 & 1\\\\\n\t 15683758 & Male   & 42 &  64000 & 0\\\\\n\t 15670615 & Male   & 48 &  33000 & 1\\\\\n\t 15715622 & Female & 44 & 139000 & 1\\\\\n\t 15707634 & Male   & 49 &  28000 & 1\\\\\n\t 15806901 & Female & 57 &  33000 & 1\\\\\n\t 15775335 & Male   & 56 &  60000 & 1\\\\\n\t 15724150 & Female & 49 &  39000 & 1\\\\\n\t 15627220 & Male   & 39 &  71000 & 0\\\\\n\t 15672330 & Male   & 47 &  34000 & 1\\\\\n\t 15668521 & Female & 48 &  35000 & 1\\\\\n\t 15807837 & Male   & 48 &  33000 & 1\\\\\n\t 15592570 & Male   & 47 &  23000 & 1\\\\\n\t 15748589 & Female & 45 &  45000 & 1\\\\\n\t 15635893 & Male   & 60 &  42000 & 1\\\\\n\t 15757632 & Female & 39 &  59000 & 0\\\\\n\t 15691863 & Female & 46 &  41000 & 1\\\\\n\t 15706071 & Male   & 51 &  23000 & 1\\\\\n\t 15654296 & Female & 50 &  20000 & 1\\\\\n\t 15755018 & Male   & 36 &  33000 & 0\\\\\n\t 15594041 & Female & 49 &  36000 & 1\\\\\n\\end{tabular}\n",
            "text/markdown": "\nA data.frame: 400 × 5\n\n| User.ID &lt;int&gt; | Gender &lt;chr&gt; | Age &lt;int&gt; | EstimatedSalary &lt;int&gt; | Purchased &lt;int&gt; |\n|---|---|---|---|---|\n| 15624510 | Male   | 19 |  19000 | 0 |\n| 15810944 | Male   | 35 |  20000 | 0 |\n| 15668575 | Female | 26 |  43000 | 0 |\n| 15603246 | Female | 27 |  57000 | 0 |\n| 15804002 | Male   | 19 |  76000 | 0 |\n| 15728773 | Male   | 27 |  58000 | 0 |\n| 15598044 | Female | 27 |  84000 | 0 |\n| 15694829 | Female | 32 | 150000 | 1 |\n| 15600575 | Male   | 25 |  33000 | 0 |\n| 15727311 | Female | 35 |  65000 | 0 |\n| 15570769 | Female | 26 |  80000 | 0 |\n| 15606274 | Female | 26 |  52000 | 0 |\n| 15746139 | Male   | 20 |  86000 | 0 |\n| 15704987 | Male   | 32 |  18000 | 0 |\n| 15628972 | Male   | 18 |  82000 | 0 |\n| 15697686 | Male   | 29 |  80000 | 0 |\n| 15733883 | Male   | 47 |  25000 | 1 |\n| 15617482 | Male   | 45 |  26000 | 1 |\n| 15704583 | Male   | 46 |  28000 | 1 |\n| 15621083 | Female | 48 |  29000 | 1 |\n| 15649487 | Male   | 45 |  22000 | 1 |\n| 15736760 | Female | 47 |  49000 | 1 |\n| 15714658 | Male   | 48 |  41000 | 1 |\n| 15599081 | Female | 45 |  22000 | 1 |\n| 15705113 | Male   | 46 |  23000 | 1 |\n| 15631159 | Male   | 47 |  20000 | 1 |\n| 15792818 | Male   | 49 |  28000 | 1 |\n| 15633531 | Female | 47 |  30000 | 1 |\n| 15744529 | Male   | 29 |  43000 | 0 |\n| 15669656 | Male   | 31 |  18000 | 0 |\n| ⋮ | ⋮ | ⋮ | ⋮ | ⋮ |\n| 15611430 | Female | 60 |  46000 | 1 |\n| 15774744 | Male   | 60 |  83000 | 1 |\n| 15629885 | Female | 39 |  73000 | 0 |\n| 15708791 | Male   | 59 | 130000 | 1 |\n| 15793890 | Female | 37 |  80000 | 0 |\n| 15646091 | Female | 46 |  32000 | 1 |\n| 15596984 | Female | 46 |  74000 | 0 |\n| 15800215 | Female | 42 |  53000 | 0 |\n| 15577806 | Male   | 41 |  87000 | 1 |\n| 15749381 | Female | 58 |  23000 | 1 |\n| 15683758 | Male   | 42 |  64000 | 0 |\n| 15670615 | Male   | 48 |  33000 | 1 |\n| 15715622 | Female | 44 | 139000 | 1 |\n| 15707634 | Male   | 49 |  28000 | 1 |\n| 15806901 | Female | 57 |  33000 | 1 |\n| 15775335 | Male   | 56 |  60000 | 1 |\n| 15724150 | Female | 49 |  39000 | 1 |\n| 15627220 | Male   | 39 |  71000 | 0 |\n| 15672330 | Male   | 47 |  34000 | 1 |\n| 15668521 | Female | 48 |  35000 | 1 |\n| 15807837 | Male   | 48 |  33000 | 1 |\n| 15592570 | Male   | 47 |  23000 | 1 |\n| 15748589 | Female | 45 |  45000 | 1 |\n| 15635893 | Male   | 60 |  42000 | 1 |\n| 15757632 | Female | 39 |  59000 | 0 |\n| 15691863 | Female | 46 |  41000 | 1 |\n| 15706071 | Male   | 51 |  23000 | 1 |\n| 15654296 | Female | 50 |  20000 | 1 |\n| 15755018 | Male   | 36 |  33000 | 0 |\n| 15594041 | Female | 49 |  36000 | 1 |\n\n",
            "text/html": [
              "<table class=\"dataframe\">\n",
              "<caption>A data.frame: 400 × 5</caption>\n",
              "<thead>\n",
              "\t<tr><th scope=col>User.ID</th><th scope=col>Gender</th><th scope=col>Age</th><th scope=col>EstimatedSalary</th><th scope=col>Purchased</th></tr>\n",
              "\t<tr><th scope=col>&lt;int&gt;</th><th scope=col>&lt;chr&gt;</th><th scope=col>&lt;int&gt;</th><th scope=col>&lt;int&gt;</th><th scope=col>&lt;int&gt;</th></tr>\n",
              "</thead>\n",
              "<tbody>\n",
              "\t<tr><td>15624510</td><td>Male  </td><td>19</td><td> 19000</td><td>0</td></tr>\n",
              "\t<tr><td>15810944</td><td>Male  </td><td>35</td><td> 20000</td><td>0</td></tr>\n",
              "\t<tr><td>15668575</td><td>Female</td><td>26</td><td> 43000</td><td>0</td></tr>\n",
              "\t<tr><td>15603246</td><td>Female</td><td>27</td><td> 57000</td><td>0</td></tr>\n",
              "\t<tr><td>15804002</td><td>Male  </td><td>19</td><td> 76000</td><td>0</td></tr>\n",
              "\t<tr><td>15728773</td><td>Male  </td><td>27</td><td> 58000</td><td>0</td></tr>\n",
              "\t<tr><td>15598044</td><td>Female</td><td>27</td><td> 84000</td><td>0</td></tr>\n",
              "\t<tr><td>15694829</td><td>Female</td><td>32</td><td>150000</td><td>1</td></tr>\n",
              "\t<tr><td>15600575</td><td>Male  </td><td>25</td><td> 33000</td><td>0</td></tr>\n",
              "\t<tr><td>15727311</td><td>Female</td><td>35</td><td> 65000</td><td>0</td></tr>\n",
              "\t<tr><td>15570769</td><td>Female</td><td>26</td><td> 80000</td><td>0</td></tr>\n",
              "\t<tr><td>15606274</td><td>Female</td><td>26</td><td> 52000</td><td>0</td></tr>\n",
              "\t<tr><td>15746139</td><td>Male  </td><td>20</td><td> 86000</td><td>0</td></tr>\n",
              "\t<tr><td>15704987</td><td>Male  </td><td>32</td><td> 18000</td><td>0</td></tr>\n",
              "\t<tr><td>15628972</td><td>Male  </td><td>18</td><td> 82000</td><td>0</td></tr>\n",
              "\t<tr><td>15697686</td><td>Male  </td><td>29</td><td> 80000</td><td>0</td></tr>\n",
              "\t<tr><td>15733883</td><td>Male  </td><td>47</td><td> 25000</td><td>1</td></tr>\n",
              "\t<tr><td>15617482</td><td>Male  </td><td>45</td><td> 26000</td><td>1</td></tr>\n",
              "\t<tr><td>15704583</td><td>Male  </td><td>46</td><td> 28000</td><td>1</td></tr>\n",
              "\t<tr><td>15621083</td><td>Female</td><td>48</td><td> 29000</td><td>1</td></tr>\n",
              "\t<tr><td>15649487</td><td>Male  </td><td>45</td><td> 22000</td><td>1</td></tr>\n",
              "\t<tr><td>15736760</td><td>Female</td><td>47</td><td> 49000</td><td>1</td></tr>\n",
              "\t<tr><td>15714658</td><td>Male  </td><td>48</td><td> 41000</td><td>1</td></tr>\n",
              "\t<tr><td>15599081</td><td>Female</td><td>45</td><td> 22000</td><td>1</td></tr>\n",
              "\t<tr><td>15705113</td><td>Male  </td><td>46</td><td> 23000</td><td>1</td></tr>\n",
              "\t<tr><td>15631159</td><td>Male  </td><td>47</td><td> 20000</td><td>1</td></tr>\n",
              "\t<tr><td>15792818</td><td>Male  </td><td>49</td><td> 28000</td><td>1</td></tr>\n",
              "\t<tr><td>15633531</td><td>Female</td><td>47</td><td> 30000</td><td>1</td></tr>\n",
              "\t<tr><td>15744529</td><td>Male  </td><td>29</td><td> 43000</td><td>0</td></tr>\n",
              "\t<tr><td>15669656</td><td>Male  </td><td>31</td><td> 18000</td><td>0</td></tr>\n",
              "\t<tr><td>⋮</td><td>⋮</td><td>⋮</td><td>⋮</td><td>⋮</td></tr>\n",
              "\t<tr><td>15611430</td><td>Female</td><td>60</td><td> 46000</td><td>1</td></tr>\n",
              "\t<tr><td>15774744</td><td>Male  </td><td>60</td><td> 83000</td><td>1</td></tr>\n",
              "\t<tr><td>15629885</td><td>Female</td><td>39</td><td> 73000</td><td>0</td></tr>\n",
              "\t<tr><td>15708791</td><td>Male  </td><td>59</td><td>130000</td><td>1</td></tr>\n",
              "\t<tr><td>15793890</td><td>Female</td><td>37</td><td> 80000</td><td>0</td></tr>\n",
              "\t<tr><td>15646091</td><td>Female</td><td>46</td><td> 32000</td><td>1</td></tr>\n",
              "\t<tr><td>15596984</td><td>Female</td><td>46</td><td> 74000</td><td>0</td></tr>\n",
              "\t<tr><td>15800215</td><td>Female</td><td>42</td><td> 53000</td><td>0</td></tr>\n",
              "\t<tr><td>15577806</td><td>Male  </td><td>41</td><td> 87000</td><td>1</td></tr>\n",
              "\t<tr><td>15749381</td><td>Female</td><td>58</td><td> 23000</td><td>1</td></tr>\n",
              "\t<tr><td>15683758</td><td>Male  </td><td>42</td><td> 64000</td><td>0</td></tr>\n",
              "\t<tr><td>15670615</td><td>Male  </td><td>48</td><td> 33000</td><td>1</td></tr>\n",
              "\t<tr><td>15715622</td><td>Female</td><td>44</td><td>139000</td><td>1</td></tr>\n",
              "\t<tr><td>15707634</td><td>Male  </td><td>49</td><td> 28000</td><td>1</td></tr>\n",
              "\t<tr><td>15806901</td><td>Female</td><td>57</td><td> 33000</td><td>1</td></tr>\n",
              "\t<tr><td>15775335</td><td>Male  </td><td>56</td><td> 60000</td><td>1</td></tr>\n",
              "\t<tr><td>15724150</td><td>Female</td><td>49</td><td> 39000</td><td>1</td></tr>\n",
              "\t<tr><td>15627220</td><td>Male  </td><td>39</td><td> 71000</td><td>0</td></tr>\n",
              "\t<tr><td>15672330</td><td>Male  </td><td>47</td><td> 34000</td><td>1</td></tr>\n",
              "\t<tr><td>15668521</td><td>Female</td><td>48</td><td> 35000</td><td>1</td></tr>\n",
              "\t<tr><td>15807837</td><td>Male  </td><td>48</td><td> 33000</td><td>1</td></tr>\n",
              "\t<tr><td>15592570</td><td>Male  </td><td>47</td><td> 23000</td><td>1</td></tr>\n",
              "\t<tr><td>15748589</td><td>Female</td><td>45</td><td> 45000</td><td>1</td></tr>\n",
              "\t<tr><td>15635893</td><td>Male  </td><td>60</td><td> 42000</td><td>1</td></tr>\n",
              "\t<tr><td>15757632</td><td>Female</td><td>39</td><td> 59000</td><td>0</td></tr>\n",
              "\t<tr><td>15691863</td><td>Female</td><td>46</td><td> 41000</td><td>1</td></tr>\n",
              "\t<tr><td>15706071</td><td>Male  </td><td>51</td><td> 23000</td><td>1</td></tr>\n",
              "\t<tr><td>15654296</td><td>Female</td><td>50</td><td> 20000</td><td>1</td></tr>\n",
              "\t<tr><td>15755018</td><td>Male  </td><td>36</td><td> 33000</td><td>0</td></tr>\n",
              "\t<tr><td>15594041</td><td>Female</td><td>49</td><td> 36000</td><td>1</td></tr>\n",
              "</tbody>\n",
              "</table>\n"
            ]
          },
          "metadata": {
            "tags": []
          }
        }
      ]
    },
    {
      "cell_type": "code",
      "metadata": {
        "colab": {
          "base_uri": "https://localhost:8080/",
          "height": 263
        },
        "id": "bcb2VV9-_zoH",
        "outputId": "38d9a5db-3320-487d-fcf2-83fd8f49c6c7"
      },
      "source": [
        "# a. summarize the entire data using apropriate R Command.\n",
        "summary(data)"
      ],
      "execution_count": null,
      "outputs": [
        {
          "output_type": "display_data",
          "data": {
            "text/plain": [
              "    User.ID            Gender               Age        EstimatedSalary \n",
              " Min.   :15566689   Length:400         Min.   :18.00   Min.   : 15000  \n",
              " 1st Qu.:15626764   Class :character   1st Qu.:29.75   1st Qu.: 43000  \n",
              " Median :15694342   Mode  :character   Median :37.00   Median : 70000  \n",
              " Mean   :15691540                      Mean   :37.66   Mean   : 69742  \n",
              " 3rd Qu.:15750363                      3rd Qu.:46.00   3rd Qu.: 88000  \n",
              " Max.   :15815236                      Max.   :60.00   Max.   :150000  \n",
              "   Purchased     \n",
              " Min.   :0.0000  \n",
              " 1st Qu.:0.0000  \n",
              " Median :0.0000  \n",
              " Mean   :0.3575  \n",
              " 3rd Qu.:1.0000  \n",
              " Max.   :1.0000  "
            ]
          },
          "metadata": {
            "tags": []
          }
        }
      ]
    },
    {
      "cell_type": "code",
      "metadata": {
        "colab": {
          "base_uri": "https://localhost:8080/",
          "height": 34
        },
        "id": "eFerL-4Lzy3E",
        "outputId": "ac0e2f5a-bc4f-4e97-c02c-7bea74634169"
      },
      "source": [
        "# b. show class of variable holding data\n",
        "class(data)"
      ],
      "execution_count": null,
      "outputs": [
        {
          "output_type": "display_data",
          "data": {
            "text/plain": [
              "[1] \"data.frame\""
            ],
            "text/latex": "'data.frame'",
            "text/markdown": "'data.frame'",
            "text/html": [
              "'data.frame'"
            ]
          },
          "metadata": {
            "tags": []
          }
        }
      ]
    },
    {
      "cell_type": "markdown",
      "metadata": {
        "id": "MU1i2-ALs3BU"
      },
      "source": [
        "# c. Obtain 5 point statistical summary for all attributes"
      ]
    },
    {
      "cell_type": "code",
      "metadata": {
        "id": "a9Mul-khXDjX",
        "colab": {
          "base_uri": "https://localhost:8080/",
          "height": 84
        },
        "outputId": "9f83d04d-b043-42fc-98e3-5ebe2ae40553"
      },
      "source": [
        "paste('Min.Lower.Medain.Upper.Max')\n",
        "fivenum(data$User.ID)\n",
        "#fivenum(data$Gender)\n",
        "fivenum(data$Age)\n",
        "fivenum(data$EstimatedSalary)\n"
      ],
      "execution_count": null,
      "outputs": [
        {
          "output_type": "display_data",
          "data": {
            "text/plain": [
              "[1] \"Min.Lower.Medain.Upper.Max\""
            ],
            "text/latex": "'Min.Lower.Medain.Upper.Max'",
            "text/markdown": "'Min.Lower.Medain.Upper.Max'",
            "text/html": [
              "'Min.Lower.Medain.Upper.Max'"
            ]
          },
          "metadata": {
            "tags": []
          }
        },
        {
          "output_type": "display_data",
          "data": {
            "text/plain": [
              "[1] 15566689 15626308 15694342 15750391 15815236"
            ],
            "text/latex": "\\begin{enumerate*}\n\\item 15566689\n\\item 15626307.5\n\\item 15694341.5\n\\item 15750391\n\\item 15815236\n\\end{enumerate*}\n",
            "text/markdown": "1. 15566689\n2. 15626307.5\n3. 15694341.5\n4. 15750391\n5. 15815236\n\n\n",
            "text/html": [
              "<style>\n",
              ".list-inline {list-style: none; margin:0; padding: 0}\n",
              ".list-inline>li {display: inline-block}\n",
              ".list-inline>li:not(:last-child)::after {content: \"\\00b7\"; padding: 0 .5ex}\n",
              "</style>\n",
              "<ol class=list-inline><li>15566689</li><li>15626307.5</li><li>15694341.5</li><li>15750391</li><li>15815236</li></ol>\n"
            ]
          },
          "metadata": {
            "tags": []
          }
        },
        {
          "output_type": "display_data",
          "data": {
            "text/plain": [
              "[1] 18.0 29.5 37.0 46.0 60.0"
            ],
            "text/latex": "\\begin{enumerate*}\n\\item 18\n\\item 29.5\n\\item 37\n\\item 46\n\\item 60\n\\end{enumerate*}\n",
            "text/markdown": "1. 18\n2. 29.5\n3. 37\n4. 46\n5. 60\n\n\n",
            "text/html": [
              "<style>\n",
              ".list-inline {list-style: none; margin:0; padding: 0}\n",
              ".list-inline>li {display: inline-block}\n",
              ".list-inline>li:not(:last-child)::after {content: \"\\00b7\"; padding: 0 .5ex}\n",
              "</style>\n",
              "<ol class=list-inline><li>18</li><li>29.5</li><li>37</li><li>46</li><li>60</li></ol>\n"
            ]
          },
          "metadata": {
            "tags": []
          }
        },
        {
          "output_type": "display_data",
          "data": {
            "text/plain": [
              "[1]  15000  43000  70000  88000 150000"
            ],
            "text/latex": "\\begin{enumerate*}\n\\item 15000\n\\item 43000\n\\item 70000\n\\item 88000\n\\item 150000\n\\end{enumerate*}\n",
            "text/markdown": "1. 15000\n2. 43000\n3. 70000\n4. 88000\n5. 150000\n\n\n",
            "text/html": [
              "<style>\n",
              ".list-inline {list-style: none; margin:0; padding: 0}\n",
              ".list-inline>li {display: inline-block}\n",
              ".list-inline>li:not(:last-child)::after {content: \"\\00b7\"; padding: 0 .5ex}\n",
              "</style>\n",
              "<ol class=list-inline><li>15000</li><li>43000</li><li>70000</li><li>88000</li><li>150000</li></ol>\n"
            ]
          },
          "metadata": {
            "tags": []
          }
        }
      ]
    },
    {
      "cell_type": "markdown",
      "metadata": {
        "id": "ZpseFnCMtAkV"
      },
      "source": [
        "# d. select any 2 atributes that are continuous valued and create a subset of original data with only those columns. \n",
        "# (e.g. sample_data(col1,col2, col3) is stored in variable my_data where as variable data_slice has only col2 and col3 and no other columns. Num of rows in both must be same.)"
      ]
    },
    {
      "cell_type": "code",
      "metadata": {
        "id": "to6tvKQNYURb",
        "colab": {
          "base_uri": "https://localhost:8080/",
          "height": 140
        },
        "outputId": "2379097c-66d3-48e0-dbe6-037ca8712502"
      },
      "source": [
        "data_slice <- data %>% select(Age:Purchased)\n",
        "summary(data_slice)"
      ],
      "execution_count": null,
      "outputs": [
        {
          "output_type": "display_data",
          "data": {
            "text/plain": [
              "      Age        EstimatedSalary    Purchased     \n",
              " Min.   :18.00   Min.   : 15000   Min.   :0.0000  \n",
              " 1st Qu.:29.75   1st Qu.: 43000   1st Qu.:0.0000  \n",
              " Median :37.00   Median : 70000   Median :0.0000  \n",
              " Mean   :37.66   Mean   : 69742   Mean   :0.3575  \n",
              " 3rd Qu.:46.00   3rd Qu.: 88000   3rd Qu.:1.0000  \n",
              " Max.   :60.00   Max.   :150000   Max.   :1.0000  "
            ]
          },
          "metadata": {
            "tags": []
          }
        }
      ]
    },
    {
      "cell_type": "markdown",
      "metadata": {
        "id": "EyfyPkontMV0"
      },
      "source": [
        "# e. Write R function to sample tuples starting at index N to N+m from any data set provided"
      ]
    },
    {
      "cell_type": "code",
      "metadata": {
        "colab": {
          "base_uri": "https://localhost:8080/",
          "height": 34
        },
        "id": "tOofcTZnYqyQ",
        "outputId": "cb5dc0ed-61cb-4e71-d5f2-0677435eec90"
      },
      "source": [
        "bb <- data['Purchased']\n",
        "sample(bb[1:10,])"
      ],
      "execution_count": null,
      "outputs": [
        {
          "output_type": "display_data",
          "data": {
            "text/plain": [
              " [1] 0 0 0 0 0 0 0 0 1 0"
            ],
            "text/latex": "\\begin{enumerate*}\n\\item 0\n\\item 0\n\\item 0\n\\item 0\n\\item 0\n\\item 0\n\\item 0\n\\item 0\n\\item 1\n\\item 0\n\\end{enumerate*}\n",
            "text/markdown": "1. 0\n2. 0\n3. 0\n4. 0\n5. 0\n6. 0\n7. 0\n8. 0\n9. 1\n10. 0\n\n\n",
            "text/html": [
              "<style>\n",
              ".list-inline {list-style: none; margin:0; padding: 0}\n",
              ".list-inline>li {display: inline-block}\n",
              ".list-inline>li:not(:last-child)::after {content: \"\\00b7\"; padding: 0 .5ex}\n",
              "</style>\n",
              "<ol class=list-inline><li>0</li><li>0</li><li>0</li><li>0</li><li>0</li><li>0</li><li>0</li><li>0</li><li>1</li><li>0</li></ol>\n"
            ]
          },
          "metadata": {
            "tags": []
          }
        }
      ]
    },
    {
      "cell_type": "markdown",
      "metadata": {
        "id": "REwt_4A6tcq0"
      },
      "source": [
        "Task 4:"
      ]
    },
    {
      "cell_type": "markdown",
      "metadata": {
        "id": "eWp2bmuPtgC0"
      },
      "source": [
        "\n",
        "# a. find out how many values are missing in each of the columns of your data set."
      ]
    },
    {
      "cell_type": "code",
      "metadata": {
        "colab": {
          "base_uri": "https://localhost:8080/",
          "height": 34
        },
        "id": "-MNPuWNTa4C4",
        "outputId": "4b8e7829-5e9e-4a99-acc1-0a665b7cea5b"
      },
      "source": [
        "tar <- data$target\n",
        "sapply(data, function(tar) sum(is.na(tar)))"
      ],
      "execution_count": null,
      "outputs": [
        {
          "output_type": "display_data",
          "data": {
            "text/plain": [
              "        User.ID          Gender             Age EstimatedSalary       Purchased \n",
              "              0               0               0               0               0 "
            ],
            "text/latex": "\\begin{description*}\n\\item[User.ID] 0\n\\item[Gender] 0\n\\item[Age] 0\n\\item[EstimatedSalary] 0\n\\item[Purchased] 0\n\\end{description*}\n",
            "text/markdown": "User.ID\n:   0Gender\n:   0Age\n:   0EstimatedSalary\n:   0Purchased\n:   0\n\n",
            "text/html": [
              "<style>\n",
              ".dl-inline {width: auto; margin:0; padding: 0}\n",
              ".dl-inline>dt, .dl-inline>dd {float: none; width: auto; display: inline-block}\n",
              ".dl-inline>dt::after {content: \":\\0020\"; padding-right: .5ex}\n",
              ".dl-inline>dt:not(:first-of-type) {padding-left: .5ex}\n",
              "</style><dl class=dl-inline><dt>User.ID</dt><dd>0</dd><dt>Gender</dt><dd>0</dd><dt>Age</dt><dd>0</dd><dt>EstimatedSalary</dt><dd>0</dd><dt>Purchased</dt><dd>0</dd></dl>\n"
            ]
          },
          "metadata": {
            "tags": []
          }
        }
      ]
    },
    {
      "cell_type": "markdown",
      "metadata": {
        "id": "Id6wLQojtrz6"
      },
      "source": [
        "# b. select colum with more than 10% values missing for deletation. Create new copy of dataset\n",
        "# that has one less column call it sample_data_1less.\n",
        "\n",
        "## Remove columns with more than 10% NA"
      ]
    },
    {
      "cell_type": "code",
      "metadata": {
        "id": "cwM7GpBdbZrl"
      },
      "source": [
        "dataless1 <-data[, which(colMeans(!is.na(data)) > 0.1)]"
      ],
      "execution_count": null,
      "outputs": []
    },
    {
      "cell_type": "markdown",
      "metadata": {
        "id": "-akZFgo4t4FG"
      },
      "source": [
        "# c. Find 5 point summary of all remaining columns with numric attributes"
      ]
    },
    {
      "cell_type": "code",
      "metadata": {
        "colab": {
          "base_uri": "https://localhost:8080/",
          "height": 263
        },
        "id": "6b4D1vdWbkRP",
        "outputId": "43e624c3-772b-40f3-c5fa-08af96bce58c"
      },
      "source": [
        "summary(dataless1)"
      ],
      "execution_count": null,
      "outputs": [
        {
          "output_type": "display_data",
          "data": {
            "text/plain": [
              "    User.ID            Gender               Age        EstimatedSalary \n",
              " Min.   :15566689   Length:400         Min.   :18.00   Min.   : 15000  \n",
              " 1st Qu.:15626764   Class :character   1st Qu.:29.75   1st Qu.: 43000  \n",
              " Median :15694342   Mode  :character   Median :37.00   Median : 70000  \n",
              " Mean   :15691540                      Mean   :37.66   Mean   : 69742  \n",
              " 3rd Qu.:15750363                      3rd Qu.:46.00   3rd Qu.: 88000  \n",
              " Max.   :15815236                      Max.   :60.00   Max.   :150000  \n",
              "   Purchased     \n",
              " Min.   :0.0000  \n",
              " 1st Qu.:0.0000  \n",
              " Median :0.0000  \n",
              " Mean   :0.3575  \n",
              " 3rd Qu.:1.0000  \n",
              " Max.   :1.0000  "
            ]
          },
          "metadata": {
            "tags": []
          }
        }
      ]
    },
    {
      "cell_type": "markdown",
      "metadata": {
        "id": "Xsv0kDnauDrH"
      },
      "source": [
        "# d. For attribute having maximum spread delete all tuples that have value less than the mean of the\n",
        "# attribute selected. Count the number of tuples reamining in the sampled dataset."
      ]
    },
    {
      "cell_type": "code",
      "metadata": {
        "colab": {
          "base_uri": "https://localhost:8080/",
          "height": 138
        },
        "id": "8NQyk9_6cA74",
        "outputId": "375f047b-5c44-4821-f00e-0cbf3b22cc07"
      },
      "source": [
        "m <- mean(data$Purchased, na.rm = FALSE)\n",
        "m\n",
        "\n",
        "df2 <- subset(data, data$Purchased< m)\n",
        "summary(df2$Purchased)\n",
        "print('Rows before row deletion: ')\n",
        "nrow(data)\n",
        "print('Rows before row deletion: ')\n",
        "nrow(df2)"
      ],
      "execution_count": null,
      "outputs": [
        {
          "output_type": "display_data",
          "data": {
            "text/plain": [
              "[1] 0.3575"
            ],
            "text/latex": "0.3575",
            "text/markdown": "0.3575",
            "text/html": [
              "0.3575"
            ]
          },
          "metadata": {
            "tags": []
          }
        },
        {
          "output_type": "display_data",
          "data": {
            "text/plain": [
              "   Min. 1st Qu.  Median    Mean 3rd Qu.    Max. \n",
              "      0       0       0       0       0       0 "
            ]
          },
          "metadata": {
            "tags": []
          }
        },
        {
          "output_type": "stream",
          "text": [
            "[1] \"Rows before row deletion: \"\n"
          ],
          "name": "stdout"
        },
        {
          "output_type": "display_data",
          "data": {
            "text/plain": [
              "[1] 400"
            ],
            "text/latex": "400",
            "text/markdown": "400",
            "text/html": [
              "400"
            ]
          },
          "metadata": {
            "tags": []
          }
        },
        {
          "output_type": "stream",
          "text": [
            "[1] \"Rows before row deletion: \"\n"
          ],
          "name": "stdout"
        },
        {
          "output_type": "display_data",
          "data": {
            "text/plain": [
              "[1] 257"
            ],
            "text/latex": "257",
            "text/markdown": "257",
            "text/html": [
              "257"
            ]
          },
          "metadata": {
            "tags": []
          }
        }
      ]
    },
    {
      "cell_type": "markdown",
      "metadata": {
        "id": "FWfS37x3uMly"
      },
      "source": [
        "Task 5:"
      ]
    },
    {
      "cell_type": "markdown",
      "metadata": {
        "id": "EVzhgDpduOph"
      },
      "source": [
        "# a. print the 5 point statistical summary for any 2 numeric attributes from your data set"
      ]
    },
    {
      "cell_type": "code",
      "metadata": {
        "colab": {
          "base_uri": "https://localhost:8080/",
          "height": 50
        },
        "id": "kcf60vTOcAuH",
        "outputId": "e6ca8be5-a412-49ec-b4aa-37fb44d71e7e"
      },
      "source": [
        "fivenum(data$Age) \n",
        "fivenum(data$Purchased)"
      ],
      "execution_count": null,
      "outputs": [
        {
          "output_type": "display_data",
          "data": {
            "text/plain": [
              "[1] 18.0 29.5 37.0 46.0 60.0"
            ],
            "text/latex": "\\begin{enumerate*}\n\\item 18\n\\item 29.5\n\\item 37\n\\item 46\n\\item 60\n\\end{enumerate*}\n",
            "text/markdown": "1. 18\n2. 29.5\n3. 37\n4. 46\n5. 60\n\n\n",
            "text/html": [
              "<style>\n",
              ".list-inline {list-style: none; margin:0; padding: 0}\n",
              ".list-inline>li {display: inline-block}\n",
              ".list-inline>li:not(:last-child)::after {content: \"\\00b7\"; padding: 0 .5ex}\n",
              "</style>\n",
              "<ol class=list-inline><li>18</li><li>29.5</li><li>37</li><li>46</li><li>60</li></ol>\n"
            ]
          },
          "metadata": {
            "tags": []
          }
        },
        {
          "output_type": "display_data",
          "data": {
            "text/plain": [
              "[1] 0 0 0 1 1"
            ],
            "text/latex": "\\begin{enumerate*}\n\\item 0\n\\item 0\n\\item 0\n\\item 1\n\\item 1\n\\end{enumerate*}\n",
            "text/markdown": "1. 0\n2. 0\n3. 0\n4. 1\n5. 1\n\n\n",
            "text/html": [
              "<style>\n",
              ".list-inline {list-style: none; margin:0; padding: 0}\n",
              ".list-inline>li {display: inline-block}\n",
              ".list-inline>li:not(:last-child)::after {content: \"\\00b7\"; padding: 0 .5ex}\n",
              "</style>\n",
              "<ol class=list-inline><li>0</li><li>0</li><li>0</li><li>1</li><li>1</li></ol>\n"
            ]
          },
          "metadata": {
            "tags": []
          }
        }
      ]
    },
    {
      "cell_type": "markdown",
      "metadata": {
        "id": "0Fen7jVhucu_"
      },
      "source": [
        "# b. select 2 atributes have closest mean value and draw a scatter plot with proper x and labelsloi\n",
        "# ntt and title (for plotting you must use R library functions or gnuplot and not matplotlib )"
      ]
    },
    {
      "cell_type": "code",
      "metadata": {
        "colab": {
          "base_uri": "https://localhost:8080/",
          "height": 454
        },
        "id": "TTIg_CWLdB9-",
        "outputId": "9e7b08f3-4680-437d-b006-2a11d7d1464e"
      },
      "source": [
        "\n",
        "means<- colMeans(data[sapply(data, is.numeric)] )\n",
        "means\n",
        "\n",
        "library(ggplot2)\n",
        "\n",
        "Purchased<-data$Purchased\n",
        "EstimatedSalary<-data$EstimatedSalary\n",
        "plot(data$Purchased , data$EstimatedSalary , main = \"Scatterplot\" , xlab = \"Purchased\" , ylab = \"EstimatedSalary\" , las = 1 , xlim = c(0,2) , col = 2 )"
      ],
      "execution_count": 41,
      "outputs": [
        {
          "output_type": "display_data",
          "data": {
            "text/plain": [
              "        User.ID             Age EstimatedSalary       Purchased \n",
              "   1.569154e+07    3.765500e+01    6.974250e+04    3.575000e-01 "
            ],
            "text/latex": "\\begin{description*}\n\\item[User.ID] 15691539.7575\n\\item[Age] 37.655\n\\item[EstimatedSalary] 69742.5\n\\item[Purchased] 0.3575\n\\end{description*}\n",
            "text/markdown": "User.ID\n:   15691539.7575Age\n:   37.655EstimatedSalary\n:   69742.5Purchased\n:   0.3575\n\n",
            "text/html": [
              "<style>\n",
              ".dl-inline {width: auto; margin:0; padding: 0}\n",
              ".dl-inline>dt, .dl-inline>dd {float: none; width: auto; display: inline-block}\n",
              ".dl-inline>dt::after {content: \":\\0020\"; padding-right: .5ex}\n",
              ".dl-inline>dt:not(:first-of-type) {padding-left: .5ex}\n",
              "</style><dl class=dl-inline><dt>User.ID</dt><dd>15691539.7575</dd><dt>Age</dt><dd>37.655</dd><dt>EstimatedSalary</dt><dd>69742.5</dd><dt>Purchased</dt><dd>0.3575</dd></dl>\n"
            ]
          },
          "metadata": {
            "tags": []
          }
        },
        {
          "output_type": "display_data",
          "data": {
            "image/png": "[encoded data removed]",
            "text/plain": [
              "Plot with title “Scatterplot”"
            ]
          },
          "metadata": {
            "tags": [],
            "image/png": {
              "width": 420,
              "height": 420
            }
          }
        }
      ]
    },
    {
      "cell_type": "markdown",
      "metadata": {
        "id": "kVNyQFWXunv-"
      },
      "source": [
        "\n",
        "# e. Write a R function to plot histogram of some specific input attribute for any data set provided"
      ]
    },
    {
      "cell_type": "code",
      "metadata": {
        "colab": {
          "base_uri": "https://localhost:8080/",
          "height": 437
        },
        "id": "WEGaZTLmeNzv",
        "outputId": "a44fda4a-07ba-49d3-fa18-e248cd3346c1"
      },
      "source": [
        "new.function <- function(Purchased) {\n",
        "   hist(Purchased)\n",
        "}\n",
        "\n",
        "new.function(Purchased)"
      ],
      "execution_count": 42,
      "outputs": [
        {
          "output_type": "display_data",
          "data": {
            "image/png": "[encoded data removed]",
            "text/plain": [
              "Plot with title “Histogram of Purchased”"
            ]
          },
          "metadata": {
            "tags": [],
            "image/png": {
              "width": 420,
              "height": 420
            }
          }
        }
      ]
    },
    {
      "cell_type": "code",
      "metadata": {
        "id": "XzHARIZUfBe9",
        "colab": {
          "base_uri": "https://localhost:8080/",
          "height": 34
        },
        "outputId": "e58b5387-2caf-4cbf-b9ef-8158b6010e4d"
      },
      "source": [
        "# c. Find coefficient of correlation using some R library function between above 2 attributes\n",
        "cor(Purchased, EstimatedSalary, method = c(\"pearson\", \"kendall\", \"spearman\"))"
      ],
      "execution_count": 44,
      "outputs": [
        {
          "output_type": "display_data",
          "data": {
            "text/plain": [
              "[1] 0.362083"
            ],
            "text/latex": "0.362083025804678",
            "text/markdown": "0.362083025804678",
            "text/html": [
              "0.362083025804678"
            ]
          },
          "metadata": {
            "tags": []
          }
        }
      ]
    },
    {
      "cell_type": "code",
      "metadata": {
        "colab": {
          "base_uri": "https://localhost:8080/",
          "height": 437
        },
        "id": "APEIfTn-sHB1",
        "outputId": "3290060f-6b2f-4026-e7e4-61ead54e1553"
      },
      "source": [
        "boxplot(oldpeak,slope)\n",
        "title(\"Purchased vs. EstimatedSalary\")"
      ],
      "execution_count": 45,
      "outputs": [
        {
          "output_type": "display_data",
          "data": {
            "image/png": "[encoded data removed]",
            "text/plain": [
              "Plot with title “Purchased vs. EstimatedSalary”"
            ]
          },
          "metadata": {
            "tags": [],
            "image/png": {
              "width": 420,
              "height": 420
            }
          }
        }
      ]
    },
    {
      "cell_type": "code",
      "metadata": {
        "colab": {
          "base_uri": "https://localhost:8080/",
          "height": 437
        },
        "id": "_W1a4DPUsHwv",
        "outputId": "16dd5029-abd5-4630-ebb6-768c1a4a30eb"
      },
      "source": [
        "boxplot(oldpeak,slope)\n",
        "title(\"Purchased vs. EstimatedSalary\")"
      ],
      "execution_count": 46,
      "outputs": [
        {
          "output_type": "display_data",
          "data": {
            "image/png": "[encoded data removed]",
            "text/plain": [
              "Plot with title “Purchased vs. EstimatedSalary”"
            ]
          },
          "metadata": {
            "tags": [],
            "image/png": {
              "width": 420,
              "height": 420
            }
          }
        }
      ]
    }
  ]
}